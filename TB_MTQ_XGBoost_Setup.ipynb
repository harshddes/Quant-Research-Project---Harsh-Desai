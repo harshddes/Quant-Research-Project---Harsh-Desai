{
  "nbformat": 4,
  "nbformat_minor": 0,
  "metadata": {
    "colab": {
      "provenance": [],
      "gpuType": "T4",
      "authorship_tag": "ABX9TyP4JLCeoRX3Tmkf+b4ORcaX",
      "include_colab_link": true
    },
    "kernelspec": {
      "name": "python3",
      "display_name": "Python 3"
    },
    "language_info": {
      "name": "python"
    },
    "accelerator": "GPU"
  },
  "cells": [
    {
      "cell_type": "markdown",
      "metadata": {
        "id": "view-in-github",
        "colab_type": "text"
      },
      "source": [
        "<a href=\"https://colab.research.google.com/github/harshddes/Quant-Research-Project---Harsh-Desai/blob/main/TB_MTQ_XGBoost_Setup.ipynb\" target=\"_parent\"><img src=\"https://colab.research.google.com/assets/colab-badge.svg\" alt=\"Open In Colab\"/></a>"
      ]
    },
    {
      "cell_type": "code",
      "execution_count": null,
      "metadata": {
        "colab": {
          "base_uri": "https://localhost:8080/"
        },
        "id": "7Yim_igjsvM7",
        "outputId": "dcae7457-60a3-4db5-9e94-1f09d068d324"
      },
      "outputs": [
        {
          "output_type": "stream",
          "name": "stdout",
          "text": [
            "Requirement already satisfied: pandas in /usr/local/lib/python3.10/dist-packages (1.5.3)\n",
            "Requirement already satisfied: numpy in /usr/local/lib/python3.10/dist-packages (1.23.5)\n",
            "Requirement already satisfied: matplotlib in /usr/local/lib/python3.10/dist-packages (3.7.1)\n",
            "Requirement already satisfied: xgboost in /usr/local/lib/python3.10/dist-packages (2.0.2)\n",
            "Requirement already satisfied: python-dateutil>=2.8.1 in /usr/local/lib/python3.10/dist-packages (from pandas) (2.8.2)\n",
            "Requirement already satisfied: pytz>=2020.1 in /usr/local/lib/python3.10/dist-packages (from pandas) (2023.3.post1)\n",
            "Requirement already satisfied: contourpy>=1.0.1 in /usr/local/lib/python3.10/dist-packages (from matplotlib) (1.2.0)\n",
            "Requirement already satisfied: cycler>=0.10 in /usr/local/lib/python3.10/dist-packages (from matplotlib) (0.12.1)\n",
            "Requirement already satisfied: fonttools>=4.22.0 in /usr/local/lib/python3.10/dist-packages (from matplotlib) (4.46.0)\n",
            "Requirement already satisfied: kiwisolver>=1.0.1 in /usr/local/lib/python3.10/dist-packages (from matplotlib) (1.4.5)\n",
            "Requirement already satisfied: packaging>=20.0 in /usr/local/lib/python3.10/dist-packages (from matplotlib) (23.2)\n",
            "Requirement already satisfied: pillow>=6.2.0 in /usr/local/lib/python3.10/dist-packages (from matplotlib) (9.4.0)\n",
            "Requirement already satisfied: pyparsing>=2.3.1 in /usr/local/lib/python3.10/dist-packages (from matplotlib) (3.1.1)\n",
            "Requirement already satisfied: scipy in /usr/local/lib/python3.10/dist-packages (from xgboost) (1.11.4)\n",
            "Requirement already satisfied: six>=1.5 in /usr/local/lib/python3.10/dist-packages (from python-dateutil>=2.8.1->pandas) (1.16.0)\n"
          ]
        }
      ],
      "source": [
        "!pip install pandas numpy matplotlib xgboost\n",
        "\n",
        "import pandas as pd\n",
        "import numpy as np\n",
        "import matplotlib.pyplot as plt\n",
        "import xgboost as xgb\n",
        "from sklearn.model_selection import train_test_split\n",
        "from sklearn.metrics import mean_squared_error, accuracy_score\n",
        "from sklearn.preprocessing import StandardScaler\n",
        "\n",
        "plt.style.use('ggplot')\n",
        "\n",
        "%matplotlib inline\n"
      ]
    },
    {
      "cell_type": "code",
      "source": [
        "!pip install xgboost"
      ],
      "metadata": {
        "colab": {
          "base_uri": "https://localhost:8080/"
        },
        "id": "m3U1aJG3zWtp",
        "outputId": "6011485b-5f54-442c-99c6-3e919116e4f6"
      },
      "execution_count": null,
      "outputs": [
        {
          "output_type": "stream",
          "name": "stdout",
          "text": [
            "Requirement already satisfied: xgboost in /usr/local/lib/python3.10/dist-packages (2.0.2)\n",
            "Requirement already satisfied: numpy in /usr/local/lib/python3.10/dist-packages (from xgboost) (1.23.5)\n",
            "Requirement already satisfied: scipy in /usr/local/lib/python3.10/dist-packages (from xgboost) (1.11.4)\n"
          ]
        }
      ]
    },
    {
      "cell_type": "code",
      "source": [
        "from xgboost import XGBRegressor\n",
        "\n",
        "model = XGBRegressor(\n",
        "    n_estimators=100,\n",
        "    learning_rate=0.1,\n",
        "    max_depth=3,\n",
        "    subsample=0.8,\n",
        "    colsample_bytree=0.8,\n",
        "    objective='reg:squarederror'\n",
        ")"
      ],
      "metadata": {
        "id": "lmY08AIjzaXT"
      },
      "execution_count": null,
      "outputs": []
    },
    {
      "cell_type": "code",
      "source": [
        "df = pd.read_parquet('data.parquet')\n",
        "\n",
        "print(df.head())"
      ],
      "metadata": {
        "colab": {
          "base_uri": "https://localhost:8080/"
        },
        "id": "ABxpKslBs4tE",
        "outputId": "2e2c9c7d-a1f4-4098-af5c-dd25e0598617"
      },
      "execution_count": null,
      "outputs": [
        {
          "output_type": "stream",
          "name": "stdout",
          "text": [
            "                     banknifty     nifty  tte\n",
            "time                                         \n",
            "2021-01-01 09:15:00   0.286058  0.199729   27\n",
            "2021-01-01 09:16:00   0.285381  0.200433   27\n",
            "2021-01-01 09:17:00   0.284233  0.200004   27\n",
            "2021-01-01 09:18:00   0.286104  0.199860   27\n",
            "2021-01-01 09:19:00   0.285539  0.198951   27\n"
          ]
        }
      ]
    },
    {
      "cell_type": "code",
      "source": [
        "# Calculating the spread and other new columns using .loc to avoid SettingWithCopyWarning\n",
        "df.loc[:, 'spread'] = df['banknifty'] - df['nifty']\n",
        "df.loc[:, 'daily_returns'] = df['spread'].pct_change()\n",
        "df.loc[:, 'ma7'] = df['spread'].rolling(window=7).mean()\n",
        "df.loc[:, 'ma30'] = df['spread'].rolling(window=30).mean()\n",
        "df.loc[:, 'volatility_30'] = df['daily_returns'].rolling(window=30).std()\n",
        "df.loc[:, 'momentum'] = df['spread'] - df['ma7']\n",
        "\n",
        "df.dropna(inplace=True)\n",
        "\n",
        "df.loc[:, 'future_returns'] = df['daily_returns'].shift(-1)\n",
        "\n",
        "df = df.iloc[:-1]\n",
        "\n",
        "# Feature defination\n",
        "X = df.loc[:, ['daily_returns', 'ma7', 'ma30', 'volatility_30', 'momentum']]\n",
        "y = df.loc[:, 'future_returns']\n",
        "\n",
        "# Splitting the data into training and test sets\n",
        "X_train, X_test, y_train, y_test = train_test_split(X, y, test_size=0.2, random_state=42)\n",
        "\n",
        "scaler = StandardScaler()\n",
        "X_train_scaled = scaler.fit_transform(X_train)\n",
        "X_test_scaled = scaler.transform(X_test)\n"
      ],
      "metadata": {
        "id": "wzzkDPp5vu3A"
      },
      "execution_count": null,
      "outputs": []
    },
    {
      "cell_type": "markdown",
      "source": [
        "Training the XGBoost Model"
      ],
      "metadata": {
        "id": "7_sxO8u5xL0Q"
      }
    },
    {
      "cell_type": "code",
      "source": [
        "xgb_model = xgb.XGBRegressor(objective='reg:squarederror', n_estimators=100)\n",
        "\n",
        "xgb_model.fit(X_train_scaled, y_train)\n",
        "\n",
        "y_pred = xgb_model.predict(X_test_scaled)\n",
        "\n",
        "mse = mean_squared_error(y_test, y_pred)\n",
        "print(\"Mean Squared Error:\", mse)\n"
      ],
      "metadata": {
        "colab": {
          "base_uri": "https://localhost:8080/"
        },
        "id": "c4D27NefuYhz",
        "outputId": "d0add17d-441d-4546-8dd7-109a65235208"
      },
      "execution_count": null,
      "outputs": [
        {
          "output_type": "stream",
          "name": "stdout",
          "text": [
            "Mean Squared Error: 0.0028976780812174667\n"
          ]
        }
      ]
    },
    {
      "cell_type": "code",
      "source": [
        "X_scaled = scaler.transform(X)\n",
        "\n",
        "df['predicted_returns'] = xgb_model.predict(X_scaled)\n",
        "\n",
        "# trading signals based on predicted returns\n",
        "# Here, a simple strategy is used: go long if predicted returns are positive, go short if negative\n",
        "df['signal'] = df['predicted_returns'].apply(lambda x: 1 if x > 0 else -1)\n",
        "\n",
        "print(df[['predicted_returns', 'signal']].tail())\n"
      ],
      "metadata": {
        "colab": {
          "base_uri": "https://localhost:8080/"
        },
        "id": "i9MYULF8xTlh",
        "outputId": "768a0cd2-c9df-4072-af96-69ca0c8a3665"
      },
      "execution_count": null,
      "outputs": [
        {
          "output_type": "stream",
          "name": "stdout",
          "text": [
            "                     predicted_returns  signal\n",
            "time                                          \n",
            "2022-06-30 15:25:00           0.032587       1\n",
            "2022-06-30 15:26:00          -0.004487      -1\n",
            "2022-06-30 15:27:00           0.022471       1\n",
            "2022-06-30 15:28:00           0.030127       1\n",
            "2022-06-30 15:29:00          -0.005558      -1\n"
          ]
        }
      ]
    },
    {
      "cell_type": "code",
      "source": [
        "initial_capital = 10000\n",
        "df['position'] = df['signal']\n",
        "df['position_change'] = df['position'].diff()\n",
        "df['trade_returns'] = df['daily_returns'] * df['position'].shift()\n",
        "\n",
        "df['portfolio_value'] = initial_capital + (df['trade_returns'].cumsum() * initial_capital)\n",
        "\n",
        "final_portfolio_value = df['portfolio_value'].iloc[-1]\n",
        "pnl = final_portfolio_value - initial_capital\n",
        "print(\"P&L:\", pnl)\n",
        "\n",
        "risk_free_rate = 0.00\n",
        "sharpe_ratio = (df['trade_returns'].mean() - risk_free_rate) / df['trade_returns'].std() * np.sqrt(252)\n",
        "print(\"Sharpe Ratio:\", sharpe_ratio)\n",
        "\n",
        "roll_max = df['portfolio_value'].cummax()\n",
        "daily_drawdown = df['portfolio_value'] / roll_max - 1.0\n",
        "max_drawdown = daily_drawdown.min()\n",
        "print(\"Maximum Drawdown:\", max_drawdown)\n",
        "\n",
        "plt.figure(figsize=(12, 6))\n",
        "plt.plot(df.index, df['portfolio_value'], label='Portfolio Value')\n",
        "plt.title('Portfolio Value Over Time')\n",
        "plt.xlabel('Time')\n",
        "plt.ylabel('Portfolio Value')\n",
        "plt.legend()\n",
        "plt.show()\n"
      ],
      "metadata": {
        "colab": {
          "base_uri": "https://localhost:8080/",
          "height": 621
        },
        "id": "E_5zYZoZxnNE",
        "outputId": "0c7cb3f8-75a6-4c14-b13a-70438fa5462b"
      },
      "execution_count": null,
      "outputs": [
        {
          "output_type": "stream",
          "name": "stdout",
          "text": [
            "P&L: 12758246.993396297\n",
            "Sharpe Ratio: 0.17828753888185608\n",
            "Maximum Drawdown: -0.09228264086850568\n"
          ]
        },
        {
          "output_type": "display_data",
          "data": {
            "text/plain": [
              "<Figure size 1200x600 with 1 Axes>"
            ],
            "image/png": "[encoded data removed]"
          },
          "metadata": {}
        }
      ]
    },
    {
      "cell_type": "code",
      "source": [
        "df['ma7'] = df['spread'].rolling(window=7).mean()\n",
        "df['ma30'] = df['spread'].rolling(window=30).mean()\n",
        "df['volatility_30'] = df['daily_returns'].rolling(window=30).std()\n",
        "df['momentum'] = df['spread'] - df['ma7']\n",
        "\n",
        "df['future_returns'] = df['daily_returns'].shift(-1)\n",
        "\n",
        "df.dropna(inplace=True)\n",
        "\n",
        "X = df[['daily_returns', 'ma7', 'ma30', 'volatility_30', 'momentum']]\n",
        "y = df['future_returns']"
      ],
      "metadata": {
        "id": "Sb8kdZjm6Fd7"
      },
      "execution_count": null,
      "outputs": []
    },
    {
      "cell_type": "code",
      "source": [
        "from sklearn.model_selection import TimeSeriesSplit\n",
        "from sklearn.metrics import mean_squared_error\n",
        "from xgboost import XGBRegressor\n",
        "from sklearn.preprocessing import StandardScaler\n",
        "\n",
        "tscv = TimeSeriesSplit(n_splits=5)\n",
        "\n",
        "# Initializing an array to store the out-of-sample predictions\n",
        "oos_predictions = []\n",
        "\n",
        "for train_index, test_index in tscv.split(X):\n",
        "    X_train, X_test = X.iloc[train_index], X.iloc[test_index]\n",
        "    y_train, y_test = y.iloc[train_index], y.iloc[test_index]\n",
        "\n",
        "    scaler = StandardScaler()\n",
        "    X_train_scaled = scaler.fit_transform(X_train)\n",
        "    X_test_scaled = scaler.transform(X_test)\n",
        "\n",
        "    model = XGBRegressor(\n",
        "        n_estimators=100,\n",
        "        learning_rate=0.1,\n",
        "        max_depth=3,\n",
        "        subsample=0.8,\n",
        "        colsample_bytree=0.8,\n",
        "        objective='reg:squarederror'\n",
        "    )\n",
        "    model.fit(X_train_scaled, y_train)\n",
        "\n",
        "    predictions = model.predict(X_test_scaled)\n",
        "    oos_predictions.extend(predictions)\n",
        "\n",
        "    mse = mean_squared_error(y_test, predictions)\n",
        "    print(f'Test MSE: {mse}')\n",
        "\n",
        "oos_predictions_df = pd.DataFrame(oos_predictions, index=X.index[-len(oos_predictions):], columns=['predicted_returns'])\n",
        "\n",
        "df = df.join(oos_predictions_df, lsuffix='_actual', rsuffix='_predicted')\n",
        "\n"
      ],
      "metadata": {
        "colab": {
          "base_uri": "https://localhost:8080/"
        },
        "id": "R0UMAS25yEt6",
        "outputId": "1d31bae9-24c4-49f2-f510-bc9208d2af0b"
      },
      "execution_count": null,
      "outputs": [
        {
          "output_type": "stream",
          "name": "stdout",
          "text": [
            "Test MSE: 0.00014610534155532916\n",
            "Test MSE: 0.00014709176251886418\n",
            "Test MSE: 0.24800462878500332\n",
            "Test MSE: 0.00045755320614931184\n",
            "Test MSE: 0.5354527173369398\n"
          ]
        }
      ]
    },
    {
      "cell_type": "code",
      "source": [
        "from sklearn.model_selection import GridSearchCV\n",
        "\n",
        "param_grid = {\n",
        "    'n_estimators': [50, 100, 200],\n",
        "    'max_depth': [3, 5, 7],\n",
        "    'learning_rate': [0.01, 0.1, 0.2]\n",
        "}\n",
        "\n",
        "xgb_model = XGBRegressor(objective='reg:squarederror')\n",
        "\n",
        "grid_search = GridSearchCV(estimator=xgb_model, param_grid=param_grid, cv=3, scoring='neg_mean_squared_error')\n",
        "\n",
        "grid_search.fit(X_train_scaled, y_train)\n",
        "\n",
        "best_params = grid_search.best_params_\n",
        "print(\"Best parameters found: \", best_params)\n",
        "\n",
        "best_xgb_model = XGBRegressor(**best_params)\n",
        "best_xgb_model.fit(X_train_scaled, y_train)\n",
        "\n",
        "y_pred = best_xgb_model.predict(X_test_scaled)\n",
        "mse = mean_squared_error(y_test, y_pred)\n",
        "print(\"Mean Squared Error with best parameters: \", mse)\n"
      ],
      "metadata": {
        "colab": {
          "base_uri": "https://localhost:8080/"
        },
        "id": "Vcxid_n1zDub",
        "outputId": "69d07fe5-746b-4885-ebc5-a998894bf819"
      },
      "execution_count": null,
      "outputs": [
        {
          "output_type": "stream",
          "name": "stdout",
          "text": [
            "Best parameters found:  {'learning_rate': 0.01, 'max_depth': 3, 'n_estimators': 100}\n",
            "Mean Squared Error with best parameters:  0.03648052757143459\n"
          ]
        }
      ]
    },
    {
      "cell_type": "code",
      "source": [],
      "metadata": {
        "id": "vopPVvs14vPJ"
      },
      "execution_count": null,
      "outputs": []
    }
  ]
}